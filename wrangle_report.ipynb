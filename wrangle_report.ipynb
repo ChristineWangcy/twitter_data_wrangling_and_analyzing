{
 "cells": [
  {
   "cell_type": "markdown",
   "metadata": {},
   "source": [
    "## Reporting: wragle_report\n",
    "* Create a **300-600 word written report** called \"wrangle_report.pdf\" or \"wrangle_report.html\" that briefly describes your wrangling efforts. This is to be framed as an internal document."
   ]
  },
  {
   "cell_type": "markdown",
   "metadata": {},
   "source": [
    "First, twitter archive and images data are gathered by reading their csv files, additional twitter data is collected by using tweepy library through twitter API.\n",
    "\n",
    "Second, quality issues and tidiness issues are identified during assessing process. Such as tweet, reply, and retweet information are in the same table; incorrect data types; different information in one column; missing information is not defined consistently; columns of several dog types can be combined into one column; duplicate columns in different tables; lower case and upper case not defined consistently in some columns; the same column id has different column names in three tables.\n",
    "\n",
    "Third, according to the quality issues and tidiness issues detected in the second step, data cleaning is processed in this step.\n",
    "Before cleaning data, all tables are copied for backup, then the backup files are cleaned.\n",
    "\n",
    "For Twitter Archive data:\n",
    "\n",
    "1) date and time are seperately extracted from the timestamp column into new columns \n",
    "\n",
    "2) data type of reply and retweet ids are changed from float to integer \n",
    "\n",
    "3) all missing data is changed from None or Null into np.nan \n",
    "\n",
    "4) remove rows with invalid rating denominator or numerator, add a column rating ratio = numerator / denominator\n",
    "\n",
    "5) twitter archive table is splitted into three tables - tweet, reply, and retweet \n",
    "\n",
    "6) doggo, floofer, pupper, puppo columns are combined into one column\n",
    "\n",
    "7) column source is splitted into source_link and source_tag\n",
    "\n",
    "8) column text is splitted into rating_text and rating_link\n",
    "\n",
    "For Tweets Json data:\n",
    "\n",
    "1) remove duplicate columns which are existing in twitter archive table\n",
    "\n",
    "1) rename id to tweet_id which is consistent with the tweet_id column in twitter archive data table and image table\n",
    "\n",
    "For Images data:\n",
    "\n",
    "1) change the first character of p1, p2, and p3 into upper case\n",
    "\n",
    "2) change all joiners in p1, p2, and p3 into '-'\n"
   ]
  }
 ],
 "metadata": {
  "kernelspec": {
   "display_name": "Python 3",
   "language": "python",
   "name": "python3"
  },
  "language_info": {
   "codemirror_mode": {
    "name": "ipython",
    "version": 3
   },
   "file_extension": ".py",
   "mimetype": "text/x-python",
   "name": "python",
   "nbconvert_exporter": "python",
   "pygments_lexer": "ipython3",
   "version": "3.6.3"
  }
 },
 "nbformat": 4,
 "nbformat_minor": 2
}
